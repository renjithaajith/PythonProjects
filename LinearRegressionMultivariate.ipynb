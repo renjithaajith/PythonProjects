{
  "nbformat": 4,
  "nbformat_minor": 0,
  "metadata": {
    "colab": {
      "name": "LinearRegressionMultivariate.ipynb",
      "provenance": [],
      "authorship_tag": "ABX9TyOSnAJsM0k/CanQkTBfAvW0",
      "include_colab_link": true
    },
    "kernelspec": {
      "name": "python3",
      "display_name": "Python 3"
    },
    "language_info": {
      "name": "python"
    }
  },
  "cells": [
    {
      "cell_type": "markdown",
      "metadata": {
        "id": "view-in-github",
        "colab_type": "text"
      },
      "source": [
        "<a href=\"https://colab.research.google.com/github/renjithaajith/PythonProjects/blob/main/LinearRegressionMultivariate.ipynb\" target=\"_parent\"><img src=\"https://colab.research.google.com/assets/colab-badge.svg\" alt=\"Open In Colab\"/></a>"
      ]
    },
    {
      "cell_type": "code",
      "execution_count": 30,
      "metadata": {
        "id": "1nzvXiQGDhc_"
      },
      "outputs": [],
      "source": [
        "import pandas as pd\n",
        "import numpy as np\n",
        "import matplotlib.pyplot as plt\n",
        "%matplotlib inline"
      ]
    },
    {
      "cell_type": "code",
      "source": [
        "data = pd.read_csv(\"Ecommerce_Customers.csv\")"
      ],
      "metadata": {
        "id": "bJRPZTJdD32b"
      },
      "execution_count": 3,
      "outputs": []
    },
    {
      "cell_type": "code",
      "source": [
        "data"
      ],
      "metadata": {
        "colab": {
          "base_uri": "https://localhost:8080/",
          "height": 676
        },
        "id": "6BJ1_k3eECqQ",
        "outputId": "e1c658fa-3ce4-4633-ab4c-50f9d1527523"
      },
      "execution_count": 4,
      "outputs": [
        {
          "output_type": "execute_result",
          "data": {
            "text/plain": [
              "                             Email  \\\n",
              "0        mstephenson@fernandez.com   \n",
              "1                hduke@hotmail.com   \n",
              "2                 pallen@yahoo.com   \n",
              "3          riverarebecca@gmail.com   \n",
              "4    mstephens@davidson-herman.com   \n",
              "..                             ...   \n",
              "495   lewisjessica@craig-evans.com   \n",
              "496            katrina56@gmail.com   \n",
              "497             dale88@hotmail.com   \n",
              "498            cwilson@hotmail.com   \n",
              "499      hannahwilson@davidson.com   \n",
              "\n",
              "                                               Address            Avatar  \\\n",
              "0           835 Frank TunnelWrightmouth, MI 82180-9605            Violet   \n",
              "1         4547 Archer CommonDiazchester, CA 06566-8576         DarkGreen   \n",
              "2    24645 Valerie Unions Suite 582Cobbborough, DC ...            Bisque   \n",
              "3       1414 David ThroughwayPort Jason, OH 22070-1220       SaddleBrown   \n",
              "4    14023 Rodriguez PassagePort Jacobville, PR 372...  MediumAquaMarine   \n",
              "..                                                 ...               ...   \n",
              "495  4483 Jones Motorway Suite 872Lake Jamiefurt, U...               Tan   \n",
              "496    172 Owen Divide Suite 497West Richard, CA 19320     PaleVioletRed   \n",
              "497  0787 Andrews Ranch Apt. 633South Chadburgh, TN...          Cornsilk   \n",
              "498  680 Jennifer Lodge Apt. 808Brendachester, TX 0...              Teal   \n",
              "499  49791 Rachel Heights Apt. 898East Drewborough,...       DarkMagenta   \n",
              "\n",
              "     Avg Session Length  Time on App  Time on Website  Length of Membership  \\\n",
              "0             34.497268    12.655651        39.577668              4.082621   \n",
              "1             31.926272    11.109461        37.268959              2.664034   \n",
              "2             33.000915    11.330278        37.110597              4.104543   \n",
              "3             34.305557    13.717514        36.721283              3.120179   \n",
              "4             33.330673    12.795189        37.536653              4.446308   \n",
              "..                  ...          ...              ...                   ...   \n",
              "495           33.237660    13.566160        36.417985              3.746573   \n",
              "496           34.702529    11.695736        37.190268              3.576526   \n",
              "497           32.646777    11.499409        38.332576              4.958264   \n",
              "498           33.322501    12.391423        36.840086              2.336485   \n",
              "499           33.715981    12.418808        35.771016              2.735160   \n",
              "\n",
              "     Yearly Amount Spent  \n",
              "0             587.951054  \n",
              "1             392.204933  \n",
              "2             487.547505  \n",
              "3             581.852344  \n",
              "4             599.406092  \n",
              "..                   ...  \n",
              "495           573.847438  \n",
              "496           529.049004  \n",
              "497           551.620145  \n",
              "498           456.469510  \n",
              "499           497.778642  \n",
              "\n",
              "[500 rows x 8 columns]"
            ],
            "text/html": [
              "\n",
              "  <div id=\"df-54d08dd5-6dc6-44a6-a986-aa80cd42ab59\">\n",
              "    <div class=\"colab-df-container\">\n",
              "      <div>\n",
              "<style scoped>\n",
              "    .dataframe tbody tr th:only-of-type {\n",
              "        vertical-align: middle;\n",
              "    }\n",
              "\n",
              "    .dataframe tbody tr th {\n",
              "        vertical-align: top;\n",
              "    }\n",
              "\n",
              "    .dataframe thead th {\n",
              "        text-align: right;\n",
              "    }\n",
              "</style>\n",
              "<table border=\"1\" class=\"dataframe\">\n",
              "  <thead>\n",
              "    <tr style=\"text-align: right;\">\n",
              "      <th></th>\n",
              "      <th>Email</th>\n",
              "      <th>Address</th>\n",
              "      <th>Avatar</th>\n",
              "      <th>Avg Session Length</th>\n",
              "      <th>Time on App</th>\n",
              "      <th>Time on Website</th>\n",
              "      <th>Length of Membership</th>\n",
              "      <th>Yearly Amount Spent</th>\n",
              "    </tr>\n",
              "  </thead>\n",
              "  <tbody>\n",
              "    <tr>\n",
              "      <th>0</th>\n",
              "      <td>mstephenson@fernandez.com</td>\n",
              "      <td>835 Frank TunnelWrightmouth, MI 82180-9605</td>\n",
              "      <td>Violet</td>\n",
              "      <td>34.497268</td>\n",
              "      <td>12.655651</td>\n",
              "      <td>39.577668</td>\n",
              "      <td>4.082621</td>\n",
              "      <td>587.951054</td>\n",
              "    </tr>\n",
              "    <tr>\n",
              "      <th>1</th>\n",
              "      <td>hduke@hotmail.com</td>\n",
              "      <td>4547 Archer CommonDiazchester, CA 06566-8576</td>\n",
              "      <td>DarkGreen</td>\n",
              "      <td>31.926272</td>\n",
              "      <td>11.109461</td>\n",
              "      <td>37.268959</td>\n",
              "      <td>2.664034</td>\n",
              "      <td>392.204933</td>\n",
              "    </tr>\n",
              "    <tr>\n",
              "      <th>2</th>\n",
              "      <td>pallen@yahoo.com</td>\n",
              "      <td>24645 Valerie Unions Suite 582Cobbborough, DC ...</td>\n",
              "      <td>Bisque</td>\n",
              "      <td>33.000915</td>\n",
              "      <td>11.330278</td>\n",
              "      <td>37.110597</td>\n",
              "      <td>4.104543</td>\n",
              "      <td>487.547505</td>\n",
              "    </tr>\n",
              "    <tr>\n",
              "      <th>3</th>\n",
              "      <td>riverarebecca@gmail.com</td>\n",
              "      <td>1414 David ThroughwayPort Jason, OH 22070-1220</td>\n",
              "      <td>SaddleBrown</td>\n",
              "      <td>34.305557</td>\n",
              "      <td>13.717514</td>\n",
              "      <td>36.721283</td>\n",
              "      <td>3.120179</td>\n",
              "      <td>581.852344</td>\n",
              "    </tr>\n",
              "    <tr>\n",
              "      <th>4</th>\n",
              "      <td>mstephens@davidson-herman.com</td>\n",
              "      <td>14023 Rodriguez PassagePort Jacobville, PR 372...</td>\n",
              "      <td>MediumAquaMarine</td>\n",
              "      <td>33.330673</td>\n",
              "      <td>12.795189</td>\n",
              "      <td>37.536653</td>\n",
              "      <td>4.446308</td>\n",
              "      <td>599.406092</td>\n",
              "    </tr>\n",
              "    <tr>\n",
              "      <th>...</th>\n",
              "      <td>...</td>\n",
              "      <td>...</td>\n",
              "      <td>...</td>\n",
              "      <td>...</td>\n",
              "      <td>...</td>\n",
              "      <td>...</td>\n",
              "      <td>...</td>\n",
              "      <td>...</td>\n",
              "    </tr>\n",
              "    <tr>\n",
              "      <th>495</th>\n",
              "      <td>lewisjessica@craig-evans.com</td>\n",
              "      <td>4483 Jones Motorway Suite 872Lake Jamiefurt, U...</td>\n",
              "      <td>Tan</td>\n",
              "      <td>33.237660</td>\n",
              "      <td>13.566160</td>\n",
              "      <td>36.417985</td>\n",
              "      <td>3.746573</td>\n",
              "      <td>573.847438</td>\n",
              "    </tr>\n",
              "    <tr>\n",
              "      <th>496</th>\n",
              "      <td>katrina56@gmail.com</td>\n",
              "      <td>172 Owen Divide Suite 497West Richard, CA 19320</td>\n",
              "      <td>PaleVioletRed</td>\n",
              "      <td>34.702529</td>\n",
              "      <td>11.695736</td>\n",
              "      <td>37.190268</td>\n",
              "      <td>3.576526</td>\n",
              "      <td>529.049004</td>\n",
              "    </tr>\n",
              "    <tr>\n",
              "      <th>497</th>\n",
              "      <td>dale88@hotmail.com</td>\n",
              "      <td>0787 Andrews Ranch Apt. 633South Chadburgh, TN...</td>\n",
              "      <td>Cornsilk</td>\n",
              "      <td>32.646777</td>\n",
              "      <td>11.499409</td>\n",
              "      <td>38.332576</td>\n",
              "      <td>4.958264</td>\n",
              "      <td>551.620145</td>\n",
              "    </tr>\n",
              "    <tr>\n",
              "      <th>498</th>\n",
              "      <td>cwilson@hotmail.com</td>\n",
              "      <td>680 Jennifer Lodge Apt. 808Brendachester, TX 0...</td>\n",
              "      <td>Teal</td>\n",
              "      <td>33.322501</td>\n",
              "      <td>12.391423</td>\n",
              "      <td>36.840086</td>\n",
              "      <td>2.336485</td>\n",
              "      <td>456.469510</td>\n",
              "    </tr>\n",
              "    <tr>\n",
              "      <th>499</th>\n",
              "      <td>hannahwilson@davidson.com</td>\n",
              "      <td>49791 Rachel Heights Apt. 898East Drewborough,...</td>\n",
              "      <td>DarkMagenta</td>\n",
              "      <td>33.715981</td>\n",
              "      <td>12.418808</td>\n",
              "      <td>35.771016</td>\n",
              "      <td>2.735160</td>\n",
              "      <td>497.778642</td>\n",
              "    </tr>\n",
              "  </tbody>\n",
              "</table>\n",
              "<p>500 rows × 8 columns</p>\n",
              "</div>\n",
              "      <button class=\"colab-df-convert\" onclick=\"convertToInteractive('df-54d08dd5-6dc6-44a6-a986-aa80cd42ab59')\"\n",
              "              title=\"Convert this dataframe to an interactive table.\"\n",
              "              style=\"display:none;\">\n",
              "        \n",
              "  <svg xmlns=\"http://www.w3.org/2000/svg\" height=\"24px\"viewBox=\"0 0 24 24\"\n",
              "       width=\"24px\">\n",
              "    <path d=\"M0 0h24v24H0V0z\" fill=\"none\"/>\n",
              "    <path d=\"M18.56 5.44l.94 2.06.94-2.06 2.06-.94-2.06-.94-.94-2.06-.94 2.06-2.06.94zm-11 1L8.5 8.5l.94-2.06 2.06-.94-2.06-.94L8.5 2.5l-.94 2.06-2.06.94zm10 10l.94 2.06.94-2.06 2.06-.94-2.06-.94-.94-2.06-.94 2.06-2.06.94z\"/><path d=\"M17.41 7.96l-1.37-1.37c-.4-.4-.92-.59-1.43-.59-.52 0-1.04.2-1.43.59L10.3 9.45l-7.72 7.72c-.78.78-.78 2.05 0 2.83L4 21.41c.39.39.9.59 1.41.59.51 0 1.02-.2 1.41-.59l7.78-7.78 2.81-2.81c.8-.78.8-2.07 0-2.86zM5.41 20L4 18.59l7.72-7.72 1.47 1.35L5.41 20z\"/>\n",
              "  </svg>\n",
              "      </button>\n",
              "      \n",
              "  <style>\n",
              "    .colab-df-container {\n",
              "      display:flex;\n",
              "      flex-wrap:wrap;\n",
              "      gap: 12px;\n",
              "    }\n",
              "\n",
              "    .colab-df-convert {\n",
              "      background-color: #E8F0FE;\n",
              "      border: none;\n",
              "      border-radius: 50%;\n",
              "      cursor: pointer;\n",
              "      display: none;\n",
              "      fill: #1967D2;\n",
              "      height: 32px;\n",
              "      padding: 0 0 0 0;\n",
              "      width: 32px;\n",
              "    }\n",
              "\n",
              "    .colab-df-convert:hover {\n",
              "      background-color: #E2EBFA;\n",
              "      box-shadow: 0px 1px 2px rgba(60, 64, 67, 0.3), 0px 1px 3px 1px rgba(60, 64, 67, 0.15);\n",
              "      fill: #174EA6;\n",
              "    }\n",
              "\n",
              "    [theme=dark] .colab-df-convert {\n",
              "      background-color: #3B4455;\n",
              "      fill: #D2E3FC;\n",
              "    }\n",
              "\n",
              "    [theme=dark] .colab-df-convert:hover {\n",
              "      background-color: #434B5C;\n",
              "      box-shadow: 0px 1px 3px 1px rgba(0, 0, 0, 0.15);\n",
              "      filter: drop-shadow(0px 1px 2px rgba(0, 0, 0, 0.3));\n",
              "      fill: #FFFFFF;\n",
              "    }\n",
              "  </style>\n",
              "\n",
              "      <script>\n",
              "        const buttonEl =\n",
              "          document.querySelector('#df-54d08dd5-6dc6-44a6-a986-aa80cd42ab59 button.colab-df-convert');\n",
              "        buttonEl.style.display =\n",
              "          google.colab.kernel.accessAllowed ? 'block' : 'none';\n",
              "\n",
              "        async function convertToInteractive(key) {\n",
              "          const element = document.querySelector('#df-54d08dd5-6dc6-44a6-a986-aa80cd42ab59');\n",
              "          const dataTable =\n",
              "            await google.colab.kernel.invokeFunction('convertToInteractive',\n",
              "                                                     [key], {});\n",
              "          if (!dataTable) return;\n",
              "\n",
              "          const docLinkHtml = 'Like what you see? Visit the ' +\n",
              "            '<a target=\"_blank\" href=https://colab.research.google.com/notebooks/data_table.ipynb>data table notebook</a>'\n",
              "            + ' to learn more about interactive tables.';\n",
              "          element.innerHTML = '';\n",
              "          dataTable['output_type'] = 'display_data';\n",
              "          await google.colab.output.renderOutput(dataTable, element);\n",
              "          const docLink = document.createElement('div');\n",
              "          docLink.innerHTML = docLinkHtml;\n",
              "          element.appendChild(docLink);\n",
              "        }\n",
              "      </script>\n",
              "    </div>\n",
              "  </div>\n",
              "  "
            ]
          },
          "metadata": {},
          "execution_count": 4
        }
      ]
    },
    {
      "cell_type": "code",
      "source": [
        "data.dtypes"
      ],
      "metadata": {
        "colab": {
          "base_uri": "https://localhost:8080/"
        },
        "id": "9XF3uBj2EI7k",
        "outputId": "4e92f4a1-d415-4bf4-d138-f5ba14d4b256"
      },
      "execution_count": 5,
      "outputs": [
        {
          "output_type": "execute_result",
          "data": {
            "text/plain": [
              "Email                    object\n",
              "Address                  object\n",
              "Avatar                   object\n",
              "Avg Session Length      float64\n",
              "Time on App             float64\n",
              "Time on Website         float64\n",
              "Length of Membership    float64\n",
              "Yearly Amount Spent     float64\n",
              "dtype: object"
            ]
          },
          "metadata": {},
          "execution_count": 5
        }
      ]
    },
    {
      "cell_type": "code",
      "source": [
        "data.shape"
      ],
      "metadata": {
        "colab": {
          "base_uri": "https://localhost:8080/"
        },
        "id": "8BcLHr2OEOsf",
        "outputId": "3a4d44d1-2c64-455c-fae5-ff2128a1621b"
      },
      "execution_count": 6,
      "outputs": [
        {
          "output_type": "execute_result",
          "data": {
            "text/plain": [
              "(500, 8)"
            ]
          },
          "metadata": {},
          "execution_count": 6
        }
      ]
    },
    {
      "cell_type": "code",
      "source": [
        "data.isnull().sum()"
      ],
      "metadata": {
        "colab": {
          "base_uri": "https://localhost:8080/"
        },
        "id": "k8nQZUw_EUH1",
        "outputId": "8a0c448c-3264-45fd-f6c2-8eaf9d93a9ee"
      },
      "execution_count": 7,
      "outputs": [
        {
          "output_type": "execute_result",
          "data": {
            "text/plain": [
              "Email                   0\n",
              "Address                 0\n",
              "Avatar                  0\n",
              "Avg Session Length      0\n",
              "Time on App             0\n",
              "Time on Website         0\n",
              "Length of Membership    0\n",
              "Yearly Amount Spent     0\n",
              "dtype: int64"
            ]
          },
          "metadata": {},
          "execution_count": 7
        }
      ]
    },
    {
      "cell_type": "code",
      "source": [
        "for i in data.columns[3:7]:\n",
        " data[i] = (data[i] - data[i].min())/(data[i].max()- data[i].min())"
      ],
      "metadata": {
        "id": "1npEqRV6EZQ-"
      },
      "execution_count": 8,
      "outputs": []
    },
    {
      "cell_type": "code",
      "source": [
        "data"
      ],
      "metadata": {
        "colab": {
          "base_uri": "https://localhost:8080/",
          "height": 676
        },
        "id": "MfSLvcfREk-5",
        "outputId": "cbc25210-eb6e-4c23-9835-a3c4c0cf8947"
      },
      "execution_count": 9,
      "outputs": [
        {
          "output_type": "execute_result",
          "data": {
            "text/plain": [
              "                             Email  \\\n",
              "0        mstephenson@fernandez.com   \n",
              "1                hduke@hotmail.com   \n",
              "2                 pallen@yahoo.com   \n",
              "3          riverarebecca@gmail.com   \n",
              "4    mstephens@davidson-herman.com   \n",
              "..                             ...   \n",
              "495   lewisjessica@craig-evans.com   \n",
              "496            katrina56@gmail.com   \n",
              "497             dale88@hotmail.com   \n",
              "498            cwilson@hotmail.com   \n",
              "499      hannahwilson@davidson.com   \n",
              "\n",
              "                                               Address            Avatar  \\\n",
              "0           835 Frank TunnelWrightmouth, MI 82180-9605            Violet   \n",
              "1         4547 Archer CommonDiazchester, CA 06566-8576         DarkGreen   \n",
              "2    24645 Valerie Unions Suite 582Cobbborough, DC ...            Bisque   \n",
              "3       1414 David ThroughwayPort Jason, OH 22070-1220       SaddleBrown   \n",
              "4    14023 Rodriguez PassagePort Jacobville, PR 372...  MediumAquaMarine   \n",
              "..                                                 ...               ...   \n",
              "495  4483 Jones Motorway Suite 872Lake Jamiefurt, U...               Tan   \n",
              "496    172 Owen Divide Suite 497West Richard, CA 19320     PaleVioletRed   \n",
              "497  0787 Andrews Ranch Apt. 633South Chadburgh, TN...          Cornsilk   \n",
              "498  680 Jennifer Lodge Apt. 808Brendachester, TX 0...              Teal   \n",
              "499  49791 Rachel Heights Apt. 898East Drewborough,...       DarkMagenta   \n",
              "\n",
              "     Avg Session Length  Time on App  Time on Website  Length of Membership  \\\n",
              "0              0.751425     0.626620         0.929816              0.573101   \n",
              "1              0.362306     0.393016         0.550801              0.359869   \n",
              "2              0.524953     0.426378         0.524803              0.576396   \n",
              "3              0.722409     0.787050         0.460890              0.428434   \n",
              "4              0.574861     0.647702         0.594748              0.627768   \n",
              "..                  ...          ...              ...                   ...   \n",
              "495            0.560784     0.764183         0.411098              0.522589   \n",
              "496            0.782491     0.481592         0.537882              0.497028   \n",
              "497            0.471354     0.451931         0.725412              0.704722   \n",
              "498            0.573625     0.586699         0.480394              0.310634   \n",
              "499            0.633178     0.590837         0.304887              0.370560   \n",
              "\n",
              "     Yearly Amount Spent  \n",
              "0             587.951054  \n",
              "1             392.204933  \n",
              "2             487.547505  \n",
              "3             581.852344  \n",
              "4             599.406092  \n",
              "..                   ...  \n",
              "495           573.847438  \n",
              "496           529.049004  \n",
              "497           551.620145  \n",
              "498           456.469510  \n",
              "499           497.778642  \n",
              "\n",
              "[500 rows x 8 columns]"
            ],
            "text/html": [
              "\n",
              "  <div id=\"df-0cdbe181-6635-4689-9d2a-c6e351e45faf\">\n",
              "    <div class=\"colab-df-container\">\n",
              "      <div>\n",
              "<style scoped>\n",
              "    .dataframe tbody tr th:only-of-type {\n",
              "        vertical-align: middle;\n",
              "    }\n",
              "\n",
              "    .dataframe tbody tr th {\n",
              "        vertical-align: top;\n",
              "    }\n",
              "\n",
              "    .dataframe thead th {\n",
              "        text-align: right;\n",
              "    }\n",
              "</style>\n",
              "<table border=\"1\" class=\"dataframe\">\n",
              "  <thead>\n",
              "    <tr style=\"text-align: right;\">\n",
              "      <th></th>\n",
              "      <th>Email</th>\n",
              "      <th>Address</th>\n",
              "      <th>Avatar</th>\n",
              "      <th>Avg Session Length</th>\n",
              "      <th>Time on App</th>\n",
              "      <th>Time on Website</th>\n",
              "      <th>Length of Membership</th>\n",
              "      <th>Yearly Amount Spent</th>\n",
              "    </tr>\n",
              "  </thead>\n",
              "  <tbody>\n",
              "    <tr>\n",
              "      <th>0</th>\n",
              "      <td>mstephenson@fernandez.com</td>\n",
              "      <td>835 Frank TunnelWrightmouth, MI 82180-9605</td>\n",
              "      <td>Violet</td>\n",
              "      <td>0.751425</td>\n",
              "      <td>0.626620</td>\n",
              "      <td>0.929816</td>\n",
              "      <td>0.573101</td>\n",
              "      <td>587.951054</td>\n",
              "    </tr>\n",
              "    <tr>\n",
              "      <th>1</th>\n",
              "      <td>hduke@hotmail.com</td>\n",
              "      <td>4547 Archer CommonDiazchester, CA 06566-8576</td>\n",
              "      <td>DarkGreen</td>\n",
              "      <td>0.362306</td>\n",
              "      <td>0.393016</td>\n",
              "      <td>0.550801</td>\n",
              "      <td>0.359869</td>\n",
              "      <td>392.204933</td>\n",
              "    </tr>\n",
              "    <tr>\n",
              "      <th>2</th>\n",
              "      <td>pallen@yahoo.com</td>\n",
              "      <td>24645 Valerie Unions Suite 582Cobbborough, DC ...</td>\n",
              "      <td>Bisque</td>\n",
              "      <td>0.524953</td>\n",
              "      <td>0.426378</td>\n",
              "      <td>0.524803</td>\n",
              "      <td>0.576396</td>\n",
              "      <td>487.547505</td>\n",
              "    </tr>\n",
              "    <tr>\n",
              "      <th>3</th>\n",
              "      <td>riverarebecca@gmail.com</td>\n",
              "      <td>1414 David ThroughwayPort Jason, OH 22070-1220</td>\n",
              "      <td>SaddleBrown</td>\n",
              "      <td>0.722409</td>\n",
              "      <td>0.787050</td>\n",
              "      <td>0.460890</td>\n",
              "      <td>0.428434</td>\n",
              "      <td>581.852344</td>\n",
              "    </tr>\n",
              "    <tr>\n",
              "      <th>4</th>\n",
              "      <td>mstephens@davidson-herman.com</td>\n",
              "      <td>14023 Rodriguez PassagePort Jacobville, PR 372...</td>\n",
              "      <td>MediumAquaMarine</td>\n",
              "      <td>0.574861</td>\n",
              "      <td>0.647702</td>\n",
              "      <td>0.594748</td>\n",
              "      <td>0.627768</td>\n",
              "      <td>599.406092</td>\n",
              "    </tr>\n",
              "    <tr>\n",
              "      <th>...</th>\n",
              "      <td>...</td>\n",
              "      <td>...</td>\n",
              "      <td>...</td>\n",
              "      <td>...</td>\n",
              "      <td>...</td>\n",
              "      <td>...</td>\n",
              "      <td>...</td>\n",
              "      <td>...</td>\n",
              "    </tr>\n",
              "    <tr>\n",
              "      <th>495</th>\n",
              "      <td>lewisjessica@craig-evans.com</td>\n",
              "      <td>4483 Jones Motorway Suite 872Lake Jamiefurt, U...</td>\n",
              "      <td>Tan</td>\n",
              "      <td>0.560784</td>\n",
              "      <td>0.764183</td>\n",
              "      <td>0.411098</td>\n",
              "      <td>0.522589</td>\n",
              "      <td>573.847438</td>\n",
              "    </tr>\n",
              "    <tr>\n",
              "      <th>496</th>\n",
              "      <td>katrina56@gmail.com</td>\n",
              "      <td>172 Owen Divide Suite 497West Richard, CA 19320</td>\n",
              "      <td>PaleVioletRed</td>\n",
              "      <td>0.782491</td>\n",
              "      <td>0.481592</td>\n",
              "      <td>0.537882</td>\n",
              "      <td>0.497028</td>\n",
              "      <td>529.049004</td>\n",
              "    </tr>\n",
              "    <tr>\n",
              "      <th>497</th>\n",
              "      <td>dale88@hotmail.com</td>\n",
              "      <td>0787 Andrews Ranch Apt. 633South Chadburgh, TN...</td>\n",
              "      <td>Cornsilk</td>\n",
              "      <td>0.471354</td>\n",
              "      <td>0.451931</td>\n",
              "      <td>0.725412</td>\n",
              "      <td>0.704722</td>\n",
              "      <td>551.620145</td>\n",
              "    </tr>\n",
              "    <tr>\n",
              "      <th>498</th>\n",
              "      <td>cwilson@hotmail.com</td>\n",
              "      <td>680 Jennifer Lodge Apt. 808Brendachester, TX 0...</td>\n",
              "      <td>Teal</td>\n",
              "      <td>0.573625</td>\n",
              "      <td>0.586699</td>\n",
              "      <td>0.480394</td>\n",
              "      <td>0.310634</td>\n",
              "      <td>456.469510</td>\n",
              "    </tr>\n",
              "    <tr>\n",
              "      <th>499</th>\n",
              "      <td>hannahwilson@davidson.com</td>\n",
              "      <td>49791 Rachel Heights Apt. 898East Drewborough,...</td>\n",
              "      <td>DarkMagenta</td>\n",
              "      <td>0.633178</td>\n",
              "      <td>0.590837</td>\n",
              "      <td>0.304887</td>\n",
              "      <td>0.370560</td>\n",
              "      <td>497.778642</td>\n",
              "    </tr>\n",
              "  </tbody>\n",
              "</table>\n",
              "<p>500 rows × 8 columns</p>\n",
              "</div>\n",
              "      <button class=\"colab-df-convert\" onclick=\"convertToInteractive('df-0cdbe181-6635-4689-9d2a-c6e351e45faf')\"\n",
              "              title=\"Convert this dataframe to an interactive table.\"\n",
              "              style=\"display:none;\">\n",
              "        \n",
              "  <svg xmlns=\"http://www.w3.org/2000/svg\" height=\"24px\"viewBox=\"0 0 24 24\"\n",
              "       width=\"24px\">\n",
              "    <path d=\"M0 0h24v24H0V0z\" fill=\"none\"/>\n",
              "    <path d=\"M18.56 5.44l.94 2.06.94-2.06 2.06-.94-2.06-.94-.94-2.06-.94 2.06-2.06.94zm-11 1L8.5 8.5l.94-2.06 2.06-.94-2.06-.94L8.5 2.5l-.94 2.06-2.06.94zm10 10l.94 2.06.94-2.06 2.06-.94-2.06-.94-.94-2.06-.94 2.06-2.06.94z\"/><path d=\"M17.41 7.96l-1.37-1.37c-.4-.4-.92-.59-1.43-.59-.52 0-1.04.2-1.43.59L10.3 9.45l-7.72 7.72c-.78.78-.78 2.05 0 2.83L4 21.41c.39.39.9.59 1.41.59.51 0 1.02-.2 1.41-.59l7.78-7.78 2.81-2.81c.8-.78.8-2.07 0-2.86zM5.41 20L4 18.59l7.72-7.72 1.47 1.35L5.41 20z\"/>\n",
              "  </svg>\n",
              "      </button>\n",
              "      \n",
              "  <style>\n",
              "    .colab-df-container {\n",
              "      display:flex;\n",
              "      flex-wrap:wrap;\n",
              "      gap: 12px;\n",
              "    }\n",
              "\n",
              "    .colab-df-convert {\n",
              "      background-color: #E8F0FE;\n",
              "      border: none;\n",
              "      border-radius: 50%;\n",
              "      cursor: pointer;\n",
              "      display: none;\n",
              "      fill: #1967D2;\n",
              "      height: 32px;\n",
              "      padding: 0 0 0 0;\n",
              "      width: 32px;\n",
              "    }\n",
              "\n",
              "    .colab-df-convert:hover {\n",
              "      background-color: #E2EBFA;\n",
              "      box-shadow: 0px 1px 2px rgba(60, 64, 67, 0.3), 0px 1px 3px 1px rgba(60, 64, 67, 0.15);\n",
              "      fill: #174EA6;\n",
              "    }\n",
              "\n",
              "    [theme=dark] .colab-df-convert {\n",
              "      background-color: #3B4455;\n",
              "      fill: #D2E3FC;\n",
              "    }\n",
              "\n",
              "    [theme=dark] .colab-df-convert:hover {\n",
              "      background-color: #434B5C;\n",
              "      box-shadow: 0px 1px 3px 1px rgba(0, 0, 0, 0.15);\n",
              "      filter: drop-shadow(0px 1px 2px rgba(0, 0, 0, 0.3));\n",
              "      fill: #FFFFFF;\n",
              "    }\n",
              "  </style>\n",
              "\n",
              "      <script>\n",
              "        const buttonEl =\n",
              "          document.querySelector('#df-0cdbe181-6635-4689-9d2a-c6e351e45faf button.colab-df-convert');\n",
              "        buttonEl.style.display =\n",
              "          google.colab.kernel.accessAllowed ? 'block' : 'none';\n",
              "\n",
              "        async function convertToInteractive(key) {\n",
              "          const element = document.querySelector('#df-0cdbe181-6635-4689-9d2a-c6e351e45faf');\n",
              "          const dataTable =\n",
              "            await google.colab.kernel.invokeFunction('convertToInteractive',\n",
              "                                                     [key], {});\n",
              "          if (!dataTable) return;\n",
              "\n",
              "          const docLinkHtml = 'Like what you see? Visit the ' +\n",
              "            '<a target=\"_blank\" href=https://colab.research.google.com/notebooks/data_table.ipynb>data table notebook</a>'\n",
              "            + ' to learn more about interactive tables.';\n",
              "          element.innerHTML = '';\n",
              "          dataTable['output_type'] = 'display_data';\n",
              "          await google.colab.output.renderOutput(dataTable, element);\n",
              "          const docLink = document.createElement('div');\n",
              "          docLink.innerHTML = docLinkHtml;\n",
              "          element.appendChild(docLink);\n",
              "        }\n",
              "      </script>\n",
              "    </div>\n",
              "  </div>\n",
              "  "
            ]
          },
          "metadata": {},
          "execution_count": 9
        }
      ]
    },
    {
      "cell_type": "code",
      "source": [
        "X = data.drop(['Email','Address','Avatar','Yearly Amount Spent'],axis = 1)\n",
        "y = data['Yearly Amount Spent']"
      ],
      "metadata": {
        "id": "08SRm9SJEobl"
      },
      "execution_count": 10,
      "outputs": []
    },
    {
      "cell_type": "code",
      "source": [
        "X.shape"
      ],
      "metadata": {
        "colab": {
          "base_uri": "https://localhost:8080/"
        },
        "id": "Zlwz0qmJEw14",
        "outputId": "1fa1b0e5-eb35-49bd-dbb4-20b81a94fe6f"
      },
      "execution_count": 11,
      "outputs": [
        {
          "output_type": "execute_result",
          "data": {
            "text/plain": [
              "(500, 4)"
            ]
          },
          "metadata": {},
          "execution_count": 11
        }
      ]
    },
    {
      "cell_type": "code",
      "source": [
        "y.shape"
      ],
      "metadata": {
        "colab": {
          "base_uri": "https://localhost:8080/"
        },
        "id": "iLYWLtvLE4fL",
        "outputId": "8a53178b-ab10-4ad0-e8ba-e6543863f767"
      },
      "execution_count": 12,
      "outputs": [
        {
          "output_type": "execute_result",
          "data": {
            "text/plain": [
              "(500,)"
            ]
          },
          "metadata": {},
          "execution_count": 12
        }
      ]
    },
    {
      "cell_type": "code",
      "source": [
        "X"
      ],
      "metadata": {
        "colab": {
          "base_uri": "https://localhost:8080/",
          "height": 423
        },
        "id": "zvV9sx3LE-WF",
        "outputId": "7ca0d9c5-a750-444f-eee6-e0619ec7b384"
      },
      "execution_count": 13,
      "outputs": [
        {
          "output_type": "execute_result",
          "data": {
            "text/plain": [
              "     Avg Session Length  Time on App  Time on Website  Length of Membership\n",
              "0              0.751425     0.626620         0.929816              0.573101\n",
              "1              0.362306     0.393016         0.550801              0.359869\n",
              "2              0.524953     0.426378         0.524803              0.576396\n",
              "3              0.722409     0.787050         0.460890              0.428434\n",
              "4              0.574861     0.647702         0.594748              0.627768\n",
              "..                  ...          ...              ...                   ...\n",
              "495            0.560784     0.764183         0.411098              0.522589\n",
              "496            0.782491     0.481592         0.537882              0.497028\n",
              "497            0.471354     0.451931         0.725412              0.704722\n",
              "498            0.573625     0.586699         0.480394              0.310634\n",
              "499            0.633178     0.590837         0.304887              0.370560\n",
              "\n",
              "[500 rows x 4 columns]"
            ],
            "text/html": [
              "\n",
              "  <div id=\"df-5059bc88-a6e9-4d88-b8d9-84d52bedb3c0\">\n",
              "    <div class=\"colab-df-container\">\n",
              "      <div>\n",
              "<style scoped>\n",
              "    .dataframe tbody tr th:only-of-type {\n",
              "        vertical-align: middle;\n",
              "    }\n",
              "\n",
              "    .dataframe tbody tr th {\n",
              "        vertical-align: top;\n",
              "    }\n",
              "\n",
              "    .dataframe thead th {\n",
              "        text-align: right;\n",
              "    }\n",
              "</style>\n",
              "<table border=\"1\" class=\"dataframe\">\n",
              "  <thead>\n",
              "    <tr style=\"text-align: right;\">\n",
              "      <th></th>\n",
              "      <th>Avg Session Length</th>\n",
              "      <th>Time on App</th>\n",
              "      <th>Time on Website</th>\n",
              "      <th>Length of Membership</th>\n",
              "    </tr>\n",
              "  </thead>\n",
              "  <tbody>\n",
              "    <tr>\n",
              "      <th>0</th>\n",
              "      <td>0.751425</td>\n",
              "      <td>0.626620</td>\n",
              "      <td>0.929816</td>\n",
              "      <td>0.573101</td>\n",
              "    </tr>\n",
              "    <tr>\n",
              "      <th>1</th>\n",
              "      <td>0.362306</td>\n",
              "      <td>0.393016</td>\n",
              "      <td>0.550801</td>\n",
              "      <td>0.359869</td>\n",
              "    </tr>\n",
              "    <tr>\n",
              "      <th>2</th>\n",
              "      <td>0.524953</td>\n",
              "      <td>0.426378</td>\n",
              "      <td>0.524803</td>\n",
              "      <td>0.576396</td>\n",
              "    </tr>\n",
              "    <tr>\n",
              "      <th>3</th>\n",
              "      <td>0.722409</td>\n",
              "      <td>0.787050</td>\n",
              "      <td>0.460890</td>\n",
              "      <td>0.428434</td>\n",
              "    </tr>\n",
              "    <tr>\n",
              "      <th>4</th>\n",
              "      <td>0.574861</td>\n",
              "      <td>0.647702</td>\n",
              "      <td>0.594748</td>\n",
              "      <td>0.627768</td>\n",
              "    </tr>\n",
              "    <tr>\n",
              "      <th>...</th>\n",
              "      <td>...</td>\n",
              "      <td>...</td>\n",
              "      <td>...</td>\n",
              "      <td>...</td>\n",
              "    </tr>\n",
              "    <tr>\n",
              "      <th>495</th>\n",
              "      <td>0.560784</td>\n",
              "      <td>0.764183</td>\n",
              "      <td>0.411098</td>\n",
              "      <td>0.522589</td>\n",
              "    </tr>\n",
              "    <tr>\n",
              "      <th>496</th>\n",
              "      <td>0.782491</td>\n",
              "      <td>0.481592</td>\n",
              "      <td>0.537882</td>\n",
              "      <td>0.497028</td>\n",
              "    </tr>\n",
              "    <tr>\n",
              "      <th>497</th>\n",
              "      <td>0.471354</td>\n",
              "      <td>0.451931</td>\n",
              "      <td>0.725412</td>\n",
              "      <td>0.704722</td>\n",
              "    </tr>\n",
              "    <tr>\n",
              "      <th>498</th>\n",
              "      <td>0.573625</td>\n",
              "      <td>0.586699</td>\n",
              "      <td>0.480394</td>\n",
              "      <td>0.310634</td>\n",
              "    </tr>\n",
              "    <tr>\n",
              "      <th>499</th>\n",
              "      <td>0.633178</td>\n",
              "      <td>0.590837</td>\n",
              "      <td>0.304887</td>\n",
              "      <td>0.370560</td>\n",
              "    </tr>\n",
              "  </tbody>\n",
              "</table>\n",
              "<p>500 rows × 4 columns</p>\n",
              "</div>\n",
              "      <button class=\"colab-df-convert\" onclick=\"convertToInteractive('df-5059bc88-a6e9-4d88-b8d9-84d52bedb3c0')\"\n",
              "              title=\"Convert this dataframe to an interactive table.\"\n",
              "              style=\"display:none;\">\n",
              "        \n",
              "  <svg xmlns=\"http://www.w3.org/2000/svg\" height=\"24px\"viewBox=\"0 0 24 24\"\n",
              "       width=\"24px\">\n",
              "    <path d=\"M0 0h24v24H0V0z\" fill=\"none\"/>\n",
              "    <path d=\"M18.56 5.44l.94 2.06.94-2.06 2.06-.94-2.06-.94-.94-2.06-.94 2.06-2.06.94zm-11 1L8.5 8.5l.94-2.06 2.06-.94-2.06-.94L8.5 2.5l-.94 2.06-2.06.94zm10 10l.94 2.06.94-2.06 2.06-.94-2.06-.94-.94-2.06-.94 2.06-2.06.94z\"/><path d=\"M17.41 7.96l-1.37-1.37c-.4-.4-.92-.59-1.43-.59-.52 0-1.04.2-1.43.59L10.3 9.45l-7.72 7.72c-.78.78-.78 2.05 0 2.83L4 21.41c.39.39.9.59 1.41.59.51 0 1.02-.2 1.41-.59l7.78-7.78 2.81-2.81c.8-.78.8-2.07 0-2.86zM5.41 20L4 18.59l7.72-7.72 1.47 1.35L5.41 20z\"/>\n",
              "  </svg>\n",
              "      </button>\n",
              "      \n",
              "  <style>\n",
              "    .colab-df-container {\n",
              "      display:flex;\n",
              "      flex-wrap:wrap;\n",
              "      gap: 12px;\n",
              "    }\n",
              "\n",
              "    .colab-df-convert {\n",
              "      background-color: #E8F0FE;\n",
              "      border: none;\n",
              "      border-radius: 50%;\n",
              "      cursor: pointer;\n",
              "      display: none;\n",
              "      fill: #1967D2;\n",
              "      height: 32px;\n",
              "      padding: 0 0 0 0;\n",
              "      width: 32px;\n",
              "    }\n",
              "\n",
              "    .colab-df-convert:hover {\n",
              "      background-color: #E2EBFA;\n",
              "      box-shadow: 0px 1px 2px rgba(60, 64, 67, 0.3), 0px 1px 3px 1px rgba(60, 64, 67, 0.15);\n",
              "      fill: #174EA6;\n",
              "    }\n",
              "\n",
              "    [theme=dark] .colab-df-convert {\n",
              "      background-color: #3B4455;\n",
              "      fill: #D2E3FC;\n",
              "    }\n",
              "\n",
              "    [theme=dark] .colab-df-convert:hover {\n",
              "      background-color: #434B5C;\n",
              "      box-shadow: 0px 1px 3px 1px rgba(0, 0, 0, 0.15);\n",
              "      filter: drop-shadow(0px 1px 2px rgba(0, 0, 0, 0.3));\n",
              "      fill: #FFFFFF;\n",
              "    }\n",
              "  </style>\n",
              "\n",
              "      <script>\n",
              "        const buttonEl =\n",
              "          document.querySelector('#df-5059bc88-a6e9-4d88-b8d9-84d52bedb3c0 button.colab-df-convert');\n",
              "        buttonEl.style.display =\n",
              "          google.colab.kernel.accessAllowed ? 'block' : 'none';\n",
              "\n",
              "        async function convertToInteractive(key) {\n",
              "          const element = document.querySelector('#df-5059bc88-a6e9-4d88-b8d9-84d52bedb3c0');\n",
              "          const dataTable =\n",
              "            await google.colab.kernel.invokeFunction('convertToInteractive',\n",
              "                                                     [key], {});\n",
              "          if (!dataTable) return;\n",
              "\n",
              "          const docLinkHtml = 'Like what you see? Visit the ' +\n",
              "            '<a target=\"_blank\" href=https://colab.research.google.com/notebooks/data_table.ipynb>data table notebook</a>'\n",
              "            + ' to learn more about interactive tables.';\n",
              "          element.innerHTML = '';\n",
              "          dataTable['output_type'] = 'display_data';\n",
              "          await google.colab.output.renderOutput(dataTable, element);\n",
              "          const docLink = document.createElement('div');\n",
              "          docLink.innerHTML = docLinkHtml;\n",
              "          element.appendChild(docLink);\n",
              "        }\n",
              "      </script>\n",
              "    </div>\n",
              "  </div>\n",
              "  "
            ]
          },
          "metadata": {},
          "execution_count": 13
        }
      ]
    },
    {
      "cell_type": "code",
      "source": [
        "y"
      ],
      "metadata": {
        "colab": {
          "base_uri": "https://localhost:8080/"
        },
        "id": "g6_JqiBxFEIH",
        "outputId": "0b5299b6-26b4-49bc-9572-7b959d2cf1f8"
      },
      "execution_count": 14,
      "outputs": [
        {
          "output_type": "execute_result",
          "data": {
            "text/plain": [
              "0      587.951054\n",
              "1      392.204933\n",
              "2      487.547505\n",
              "3      581.852344\n",
              "4      599.406092\n",
              "          ...    \n",
              "495    573.847438\n",
              "496    529.049004\n",
              "497    551.620145\n",
              "498    456.469510\n",
              "499    497.778642\n",
              "Name: Yearly Amount Spent, Length: 500, dtype: float64"
            ]
          },
          "metadata": {},
          "execution_count": 14
        }
      ]
    },
    {
      "cell_type": "code",
      "source": [
        "X = np.concatenate((np.ones((len(X),1)),X),axis=1)"
      ],
      "metadata": {
        "id": "HYTYG6zKFJ-A"
      },
      "execution_count": 15,
      "outputs": []
    },
    {
      "cell_type": "code",
      "source": [
        "X"
      ],
      "metadata": {
        "colab": {
          "base_uri": "https://localhost:8080/"
        },
        "id": "UewgNfIQFQSs",
        "outputId": "512e7aad-a6b4-403d-ea11-aad693d411e9"
      },
      "execution_count": 16,
      "outputs": [
        {
          "output_type": "execute_result",
          "data": {
            "text/plain": [
              "array([[1.        , 0.75142474, 0.62662002, 0.9298161 , 0.57310099],\n",
              "       [1.        , 0.36230641, 0.39301565, 0.55080076, 0.35986913],\n",
              "       [1.        , 0.52495281, 0.42637758, 0.52480294, 0.57639624],\n",
              "       ...,\n",
              "       [1.        , 0.47135427, 0.45193054, 0.72541233, 0.70472157],\n",
              "       [1.        , 0.57362466, 0.58669942, 0.48039367, 0.3106342 ],\n",
              "       [1.        , 0.63317755, 0.5908369 , 0.30488705, 0.37056019]])"
            ]
          },
          "metadata": {},
          "execution_count": 16
        }
      ]
    },
    {
      "cell_type": "code",
      "source": [
        "y"
      ],
      "metadata": {
        "colab": {
          "base_uri": "https://localhost:8080/"
        },
        "id": "pp-FEqYhFU7W",
        "outputId": "5f507d00-6bc9-416a-ac72-a15ec1de17f5"
      },
      "execution_count": 17,
      "outputs": [
        {
          "output_type": "execute_result",
          "data": {
            "text/plain": [
              "0      587.951054\n",
              "1      392.204933\n",
              "2      487.547505\n",
              "3      581.852344\n",
              "4      599.406092\n",
              "          ...    \n",
              "495    573.847438\n",
              "496    529.049004\n",
              "497    551.620145\n",
              "498    456.469510\n",
              "499    497.778642\n",
              "Name: Yearly Amount Spent, Length: 500, dtype: float64"
            ]
          },
          "metadata": {},
          "execution_count": 17
        }
      ]
    },
    {
      "cell_type": "code",
      "source": [
        "from sklearn.model_selection import train_test_split\n",
        "X_train, X_test, y_train, y_test = train_test_split(X, y, test_size = 0.25,random_state = 0)"
      ],
      "metadata": {
        "id": "Riv9jha0FX3Q"
      },
      "execution_count": 18,
      "outputs": []
    },
    {
      "cell_type": "code",
      "source": [
        "def normal_equation(X, Y):\n",
        "    beta = np.dot((np.linalg.inv(np.dot(X.T,X))), np.dot(X.T,Y))\n",
        "\n",
        "    return beta\n",
        "def predict(X_test, beta):\n",
        "    return np.dot(X_test, beta)"
      ],
      "metadata": {
        "id": "AX14FCm8Fjd2"
      },
      "execution_count": 19,
      "outputs": []
    },
    {
      "cell_type": "code",
      "source": [
        "beta = normal_equation(X_train, y_train)\n",
        "predictions = predict(X_test, beta)"
      ],
      "metadata": {
        "id": "wrdgqKCwFpZz"
      },
      "execution_count": 20,
      "outputs": []
    },
    {
      "cell_type": "code",
      "source": [
        "predictions"
      ],
      "metadata": {
        "colab": {
          "base_uri": "https://localhost:8080/"
        },
        "id": "ZAowWGYgFvcd",
        "outputId": "99e574d9-fdc7-4893-e1bb-433bc9c62018"
      },
      "execution_count": 21,
      "outputs": [
        {
          "output_type": "execute_result",
          "data": {
            "text/plain": [
              "array([438.38828993, 489.87912877, 370.64151577, 514.37404963,\n",
              "       496.32026503, 451.29279839, 458.06660753, 336.89276993,\n",
              "       528.25388182, 663.31704278, 559.74505053, 526.08403059,\n",
              "       552.2666673 , 457.34723714, 450.32757843, 432.07243558,\n",
              "       563.49098202, 408.83311971, 599.61369349, 486.97464621,\n",
              "       716.28720652, 496.96707494, 411.71628067, 556.29816291,\n",
              "       551.32361174, 398.40552149, 421.3192807 , 395.6763062 ,\n",
              "       548.32209658, 463.59145823, 558.49053354, 505.31208848,\n",
              "       505.85283789, 464.06854533, 425.97536477, 401.03979978,\n",
              "       503.80451158, 430.54260512, 570.00202003, 422.07929224,\n",
              "       487.66473058, 602.27337836, 616.11566136, 589.29672921,\n",
              "       449.9893809 , 380.10689082, 558.50487097, 462.99820434,\n",
              "       502.29871803, 401.49519991, 524.32671862, 416.85563469,\n",
              "       576.68875978, 478.2795989 , 457.25927104, 397.8735013 ,\n",
              "       564.86367172, 305.40669074, 562.49057886, 476.83985037,\n",
              "       498.89242109, 434.2497342 , 464.52456142, 577.1308694 ,\n",
              "       503.80281642, 356.815947  , 508.8429179 , 417.2000656 ,\n",
              "       635.19398406, 455.59348954, 452.44811824, 766.85804752,\n",
              "       519.09912031, 457.52434093, 379.92395294, 376.16099555,\n",
              "       598.89400804, 516.10814355, 513.50834405, 429.89270474,\n",
              "       491.28180598, 492.00108977, 532.78750622, 494.97263082,\n",
              "       441.83448021, 506.99720087, 559.106833  , 754.19981393,\n",
              "       396.73748742, 516.64517582, 518.21258418, 523.30694768,\n",
              "       384.09676835, 486.41248467, 504.99637921, 384.00426123,\n",
              "       523.62747955, 500.84993873, 606.53112989, 409.42749919,\n",
              "       389.6383206 , 477.43724867, 610.98315224, 500.02683591,\n",
              "       517.21590083, 467.52321893, 425.78720679, 507.41909421,\n",
              "       287.37849627, 501.90239524, 574.57103302, 558.67567928,\n",
              "       444.01219695, 559.44768608, 397.97658491, 508.91663891,\n",
              "       475.57554816, 444.30967763, 501.12480974, 512.28721046,\n",
              "       547.79326011, 417.31404737, 395.34599275, 589.11711377,\n",
              "       497.70157035])"
            ]
          },
          "metadata": {},
          "execution_count": 21
        }
      ]
    },
    {
      "cell_type": "code",
      "source": [
        "plt.scatter(y_test, predictions)\n",
        "plt.xlabel('y_test')\n",
        "plt.ylabel('Predicted y')"
      ],
      "metadata": {
        "colab": {
          "base_uri": "https://localhost:8080/",
          "height": 298
        },
        "id": "ugBuCCFFJ47e",
        "outputId": "b3f17461-cebb-4286-ce20-590b25c84023"
      },
      "execution_count": 31,
      "outputs": [
        {
          "output_type": "execute_result",
          "data": {
            "text/plain": [
              "Text(0, 0.5, 'Predicted y')"
            ]
          },
          "metadata": {},
          "execution_count": 31
        },
        {
          "output_type": "display_data",
          "data": {
            "text/plain": [
              "<Figure size 432x288 with 1 Axes>"
            ],
            "image/png": "[encoded data removed]"
          },
          "metadata": {
            "needs_background": "light"
          }
        }
      ]
    },
    {
      "cell_type": "code",
      "source": [
        "from sklearn.metrics import r2_score\n",
        "from sklearn.metrics import mean_squared_error\n",
        "# predicting the accuracy score\n",
        "score = r2_score(y_test,predictions)\n",
        "print(\"r2 socre is\" ,score)\n",
        "print(\"mean_sqrd_error is==\",mean_squared_error(y_test,predictions))\n",
        "print(\"root_mean_squared error of is==\",np.sqrt(mean_squared_error(y_test,predictions)))\n"
      ],
      "metadata": {
        "colab": {
          "base_uri": "https://localhost:8080/"
        },
        "id": "CiEbIWffF8vp",
        "outputId": "10223b48-5249-44c9-db61-7022ded0a12b"
      },
      "execution_count": 29,
      "outputs": [
        {
          "output_type": "stream",
          "name": "stdout",
          "text": [
            "r2 socre is 0.9851050788797167\n",
            "mean_sqrd_error is== 96.38538562160291\n",
            "root_mean_squared error of is== 9.817605900707306\n"
          ]
        }
      ]
    }
  ]
}